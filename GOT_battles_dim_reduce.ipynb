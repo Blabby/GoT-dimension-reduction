{
 "cells": [
  {
   "cell_type": "markdown",
   "metadata": {},
   "source": [
    "# Dimension Reduction with Game of Thrones Battle Dataset"
   ]
  },
  {
   "cell_type": "markdown",
   "metadata": {},
   "source": [
    "Reduce battle data to two dimensions and label the battle outcome (win or lose)"
   ]
  },
  {
   "cell_type": "code",
   "execution_count": 383,
   "metadata": {
    "collapsed": false
   },
   "outputs": [],
   "source": [
    "# Imports\n",
    "import numpy as np\n",
    "import matplotlib as mpl\n",
    "import matplotlib.cm as cm\n",
    "import pandas as pd\n",
    "import sklearn\n",
    "\n",
    "# Other Imports\n",
    "from sklearn import preprocessing\n",
    "from matplotlib import pyplot as plt\n",
    "from sklearn.preprocessing import StandardScaler\n",
    "from sklearn.manifold import TSNE\n",
    "\n",
    "# Inline Plotting\n",
    "import IPython.html.widgets\n",
    "%matplotlib inline"
   ]
  },
  {
   "cell_type": "code",
   "execution_count": 384,
   "metadata": {
    "collapsed": false
   },
   "outputs": [
    {
     "name": "stdout",
     "output_type": "stream",
     "text": [
      "<class 'pandas.core.frame.DataFrame'>\n",
      "RangeIndex: 38 entries, 0 to 37\n",
      "Data columns (total 25 columns):\n",
      "name                  38 non-null object\n",
      "year                  38 non-null int64\n",
      "battle_number         38 non-null int64\n",
      "attacker_king         36 non-null object\n",
      "defender_king         35 non-null object\n",
      "attacker_1            38 non-null object\n",
      "attacker_2            10 non-null object\n",
      "attacker_3            3 non-null object\n",
      "attacker_4            2 non-null object\n",
      "defender_1            37 non-null object\n",
      "defender_2            2 non-null object\n",
      "defender_3            0 non-null float64\n",
      "defender_4            0 non-null float64\n",
      "attacker_outcome      37 non-null object\n",
      "battle_type           37 non-null object\n",
      "major_death           37 non-null float64\n",
      "major_capture         37 non-null float64\n",
      "attacker_size         24 non-null float64\n",
      "defender_size         19 non-null float64\n",
      "attacker_commander    37 non-null object\n",
      "defender_commander    28 non-null object\n",
      "summer                37 non-null float64\n",
      "location              37 non-null object\n",
      "region                38 non-null object\n",
      "note                  5 non-null object\n",
      "dtypes: float64(7), int64(2), object(16)\n",
      "memory usage: 7.5+ KB\n"
     ]
    }
   ],
   "source": [
    "# Load CSV file into Pandas DataFrame\n",
    "df = pd.read_csv('data/battles.csv')\n",
    "\n",
    "df.info()"
   ]
  },
  {
   "cell_type": "code",
   "execution_count": 385,
   "metadata": {
    "collapsed": false
   },
   "outputs": [],
   "source": [
    "# Drop Useless Columns\n",
    "df = df.drop(['name','year','battle_number','attacker_2','attacker_3','attacker_4','defender_2','defender_3', 'defender_4', 'note'], axis=1)\n",
    "\n",
    "# Drop battles with not enough information\n",
    "df.dropna(subset=['defender_size', 'attacker_size','attacker_outcome'], axis=0, inplace=True)"
   ]
  },
  {
   "cell_type": "code",
   "execution_count": 386,
   "metadata": {
    "collapsed": false
   },
   "outputs": [],
   "source": [
    "# Reorder columns so outcome is last\n",
    "df = pd.concat([df.ix[:,:4], df.ix[:,5:], df.attacker_outcome], axis=1)"
   ]
  },
  {
   "cell_type": "code",
   "execution_count": 387,
   "metadata": {
    "collapsed": false
   },
   "outputs": [
    {
     "name": "stdout",
     "output_type": "stream",
     "text": [
      "<class 'pandas.core.frame.DataFrame'>\n",
      "Int64Index: 15 entries, 0 to 30\n",
      "Data columns (total 15 columns):\n",
      "attacker_king         15 non-null int64\n",
      "defender_king         15 non-null int64\n",
      "attacker_1            15 non-null int64\n",
      "defender_1            15 non-null int64\n",
      "battle_type           15 non-null int64\n",
      "major_death           15 non-null float64\n",
      "major_capture         15 non-null float64\n",
      "attacker_size         15 non-null float64\n",
      "defender_size         15 non-null float64\n",
      "attacker_commander    15 non-null int64\n",
      "defender_commander    15 non-null int64\n",
      "summer                15 non-null float64\n",
      "location              15 non-null int64\n",
      "region                15 non-null int64\n",
      "attacker_outcome      15 non-null int64\n",
      "dtypes: float64(5), int64(10)\n",
      "memory usage: 1.9 KB\n"
     ]
    }
   ],
   "source": [
    "# Encode text columns\n",
    "column_encoders = {}\n",
    "for c in list(df.columns):\n",
    "    if df[c].dtype == object:\n",
    "        le = preprocessing.LabelEncoder()\n",
    "        df[c] = le.fit_transform(list(df[c]))\n",
    "        column_encoders[c] = le\n",
    "\n",
    "df.info()"
   ]
  },
  {
   "cell_type": "code",
   "execution_count": 388,
   "metadata": {
    "collapsed": false
   },
   "outputs": [],
   "source": [
    "# Split Data into X and Y vectors, where Y is Outcome\n",
    "y = df.ix[:,-1].values\n",
    "x = df.ix[:,:-1].values\n",
    "\n",
    "# Standardize features by removing the mean and scaling to unit variance\n",
    "standard_scaler = StandardScaler()\n",
    "x_std = standard_scaler.fit_transform(x)"
   ]
  },
  {
   "cell_type": "code",
   "execution_count": 389,
   "metadata": {
    "collapsed": false
   },
   "outputs": [],
   "source": [
    "# t-distributed Stochastic Neighbor Embedding (t-SNE)\n",
    "# Compress X vector to two dimensions\n",
    "tsne = TSNE(n_components=2, random_state=0)\n",
    "x_1d = tsne.fit_transform(x_std)*10000"
   ]
  },
  {
   "cell_type": "code",
   "execution_count": 390,
   "metadata": {
    "collapsed": false
   },
   "outputs": [
    {
     "data": {
      "image/png": "[encoded data removed]",
      "text/plain": [
       "<matplotlib.figure.Figure at 0x114310a90>"
      ]
     },
     "metadata": {},
     "output_type": "display_data"
    }
   ],
   "source": [
    "# Scatter Plot\n",
    "plt.figure()\n",
    "\n",
    "# Create color map and markers for the 2 Outcomes\n",
    "markers=('s', 'd')\n",
    "color_map = {0:'red', 1:'blue'}\n",
    "\n",
    "# Fill Scatter Plot\n",
    "for idx, cl in enumerate(np.unique(y)):\n",
    "    plt.scatter(x=x_1d[y==cl,0], y=x_1d[y==cl,1], c=color_map[idx], marker=markers[idx], \n",
    "                label=column_encoders['attacker_outcome'].inverse_transform(cl))\n",
    "\n",
    "# Labels and legend\n",
    "plt.xlabel('X in t-SNE')\n",
    "plt.ylabel('Y in t-SNE')\n",
    "plt.legend(loc='upper left', frameon=True)\n",
    "plt.title('t-SNE visualization of data')\n",
    "plt.show()"
   ]
  },
  {
   "cell_type": "markdown",
   "metadata": {},
   "source": [
    "## Conclusion"
   ]
  },
  {
   "cell_type": "markdown",
   "metadata": {},
   "source": [
    "With this format it is easy to see that battles with the same outcome have the similar parameters, although our sample size is small and we did not use dummy variables. Confidence-level is low."
   ]
  },
  {
   "cell_type": "code",
   "execution_count": null,
   "metadata": {
    "collapsed": true
   },
   "outputs": [],
   "source": []
  }
 ],
 "metadata": {
  "anaconda-cloud": {},
  "kernelspec": {
   "display_name": "Python [conda env:AI]",
   "language": "python",
   "name": "conda-env-AI-py"
  },
  "language_info": {
   "codemirror_mode": {
    "name": "ipython",
    "version": 3
   },
   "file_extension": ".py",
   "mimetype": "text/x-python",
   "name": "python",
   "nbconvert_exporter": "python",
   "pygments_lexer": "ipython3",
   "version": "3.5.2"
  }
 },
 "nbformat": 4,
 "nbformat_minor": 1
}
